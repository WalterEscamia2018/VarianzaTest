{
 "cells": [
  {
   "cell_type": "markdown",
   "id": "900ea98a-e621-4fdc-9e72-5759a87701c3",
   "metadata": {},
   "source": [
    "# UNAH\n",
    "## Facultad de Ingenieria\n",
    "## Carrera de Ingenieria en sistemas\n",
    "### Clase: Inteligencia Artificial\n",
    "\n",
    "*Prueba*"
   ]
  },
  {
   "cell_type": "code",
   "execution_count": 1,
   "id": "d89d7223-d7bc-4a2f-b8e2-7777b3abbbc9",
   "metadata": {},
   "outputs": [],
   "source": [
    "import pandas as pd\n",
    "import numpy as np"
   ]
  },
  {
   "cell_type": "markdown",
   "id": "a6101627-a1bb-41ae-9a9c-6597e20ed26b",
   "metadata": {},
   "source": [
    "Segun el siguiente Dataset:"
   ]
  },
  {
   "cell_type": "code",
   "execution_count": 2,
   "id": "129c774e-4da0-4b46-918a-19e51df03fe3",
   "metadata": {},
   "outputs": [],
   "source": [
    "pd_vector = pd.DataFrame( { \"num\" : range(1,101) } )"
   ]
  },
  {
   "cell_type": "code",
   "execution_count": 4,
   "id": "48d3c5b7-be61-4c2f-ada7-d9766b5d82db",
   "metadata": {},
   "outputs": [
    {
     "data": {
      "text/html": [
       "<div>\n",
       "<style scoped>\n",
       "    .dataframe tbody tr th:only-of-type {\n",
       "        vertical-align: middle;\n",
       "    }\n",
       "\n",
       "    .dataframe tbody tr th {\n",
       "        vertical-align: top;\n",
       "    }\n",
       "\n",
       "    .dataframe thead th {\n",
       "        text-align: right;\n",
       "    }\n",
       "</style>\n",
       "<table border=\"1\" class=\"dataframe\">\n",
       "  <thead>\n",
       "    <tr style=\"text-align: right;\">\n",
       "      <th></th>\n",
       "      <th>num</th>\n",
       "    </tr>\n",
       "  </thead>\n",
       "  <tbody>\n",
       "    <tr>\n",
       "      <th>0</th>\n",
       "      <td>1</td>\n",
       "    </tr>\n",
       "    <tr>\n",
       "      <th>1</th>\n",
       "      <td>2</td>\n",
       "    </tr>\n",
       "    <tr>\n",
       "      <th>2</th>\n",
       "      <td>3</td>\n",
       "    </tr>\n",
       "    <tr>\n",
       "      <th>3</th>\n",
       "      <td>4</td>\n",
       "    </tr>\n",
       "    <tr>\n",
       "      <th>4</th>\n",
       "      <td>5</td>\n",
       "    </tr>\n",
       "    <tr>\n",
       "      <th>...</th>\n",
       "      <td>...</td>\n",
       "    </tr>\n",
       "    <tr>\n",
       "      <th>95</th>\n",
       "      <td>96</td>\n",
       "    </tr>\n",
       "    <tr>\n",
       "      <th>96</th>\n",
       "      <td>97</td>\n",
       "    </tr>\n",
       "    <tr>\n",
       "      <th>97</th>\n",
       "      <td>98</td>\n",
       "    </tr>\n",
       "    <tr>\n",
       "      <th>98</th>\n",
       "      <td>99</td>\n",
       "    </tr>\n",
       "    <tr>\n",
       "      <th>99</th>\n",
       "      <td>100</td>\n",
       "    </tr>\n",
       "  </tbody>\n",
       "</table>\n",
       "<p>100 rows × 1 columns</p>\n",
       "</div>"
      ],
      "text/plain": [
       "    num\n",
       "0     1\n",
       "1     2\n",
       "2     3\n",
       "3     4\n",
       "4     5\n",
       "..  ...\n",
       "95   96\n",
       "96   97\n",
       "97   98\n",
       "98   99\n",
       "99  100\n",
       "\n",
       "[100 rows x 1 columns]"
      ]
     },
     "execution_count": 4,
     "metadata": {},
     "output_type": "execute_result"
    }
   ],
   "source": [
    "pd_vector"
   ]
  },
  {
   "cell_type": "markdown",
   "id": "68d2dfb1-9c1f-4116-89c5-05e2171c7018",
   "metadata": {},
   "source": [
    "Y segun los siguientes metodos de numpy"
   ]
  },
  {
   "cell_type": "code",
   "execution_count": 5,
   "id": "81d3dd14-6205-421a-9cf9-031027c6a213",
   "metadata": {},
   "outputs": [
    {
     "data": {
      "text/plain": [
       "833.25"
      ]
     },
     "execution_count": 5,
     "metadata": {},
     "output_type": "execute_result"
    }
   ],
   "source": [
    "np.var( pd_vector[\"num\"] ) ## Calcula la varianza"
   ]
  },
  {
   "cell_type": "code",
   "execution_count": 6,
   "id": "4b17ddd3-044d-4328-9f34-03bde615cc7a",
   "metadata": {},
   "outputs": [
    {
     "data": {
      "text/plain": [
       "28.86607004772212"
      ]
     },
     "execution_count": 6,
     "metadata": {},
     "output_type": "execute_result"
    }
   ],
   "source": [
    "np.std( pd_vector[\"num\"] ) ## Calcula la desviacion estandard"
   ]
  },
  {
   "cell_type": "markdown",
   "id": "b0db84f8-c351-41db-b981-336b6738b19b",
   "metadata": {},
   "source": [
    "## Responda las siguientes ejercicios"
   ]
  },
  {
   "cell_type": "markdown",
   "id": "5d99d524-4a87-4fbf-a2b8-436a6cb4ddcd",
   "metadata": {},
   "source": [
    "1. Grafique el Boxplot del vector \"num\""
   ]
  },
  {
   "cell_type": "code",
   "execution_count": 119,
   "id": "f36238bb-56d3-4bdb-9108-bb652a2c2f9c",
   "metadata": {},
   "outputs": [
    {
     "data": {
      "text/plain": [
       "<AxesSubplot:>"
      ]
     },
     "execution_count": 119,
     "metadata": {},
     "output_type": "execute_result"
    },
    {
     "data": {
      "image/png": "[encoded data removed]",
      "text/plain": [
       "<Figure size 432x288 with 1 Axes>"
      ]
     },
     "metadata": {
      "needs_background": "light"
     },
     "output_type": "display_data"
    }
   ],
   "source": [
    "pd_vector.boxplot()"
   ]
  },
  {
   "cell_type": "markdown",
   "id": "c3011ce8-15f1-4b3b-b7ab-44172bf7c8a2",
   "metadata": {},
   "source": [
    "2. Calcule la varianza y desviacion estandard de cada uno de los quartiles\n",
    "\n",
    "Nota: realice manual la divicion del dataset para obtener cada uno de quartiles, al final obtendra cuatro dataframes"
   ]
  },
  {
   "cell_type": "code",
   "execution_count": 132,
   "id": "8b18a52f-71b7-4760-81c3-7728e69613ce",
   "metadata": {},
   "outputs": [
    {
     "data": {
      "text/html": [
       "<div>\n",
       "<style scoped>\n",
       "    .dataframe tbody tr th:only-of-type {\n",
       "        vertical-align: middle;\n",
       "    }\n",
       "\n",
       "    .dataframe tbody tr th {\n",
       "        vertical-align: top;\n",
       "    }\n",
       "\n",
       "    .dataframe thead th {\n",
       "        text-align: right;\n",
       "    }\n",
       "</style>\n",
       "<table border=\"1\" class=\"dataframe\">\n",
       "  <thead>\n",
       "    <tr style=\"text-align: right;\">\n",
       "      <th></th>\n",
       "      <th>num</th>\n",
       "    </tr>\n",
       "  </thead>\n",
       "  <tbody>\n",
       "    <tr>\n",
       "      <th>0.25</th>\n",
       "      <td>25.75</td>\n",
       "    </tr>\n",
       "  </tbody>\n",
       "</table>\n",
       "</div>"
      ],
      "text/plain": [
       "        num\n",
       "0.25  25.75"
      ]
     },
     "execution_count": 132,
     "metadata": {},
     "output_type": "execute_result"
    }
   ],
   "source": [
    "Q1 = pd_vector.quantile([0.25])\n",
    "Q1.loc[ : ,['num']]"
   ]
  },
  {
   "cell_type": "code",
   "execution_count": 133,
   "id": "9281c658",
   "metadata": {},
   "outputs": [
    {
     "data": {
      "text/plain": [
       "num    52.0\n",
       "dtype: float64"
      ]
     },
     "execution_count": 133,
     "metadata": {},
     "output_type": "execute_result"
    }
   ],
   "source": [
    "var_Q1 = np.var(pd_vector[0:25])\n",
    "var_Q1"
   ]
  },
  {
   "cell_type": "code",
   "execution_count": 134,
   "id": "ab8a8649",
   "metadata": {},
   "outputs": [
    {
     "data": {
      "text/plain": [
       "num    7.211103\n",
       "dtype: float64"
      ]
     },
     "execution_count": 134,
     "metadata": {},
     "output_type": "execute_result"
    }
   ],
   "source": [
    "de_Q1 = np.std(pd_vector[0:25])\n",
    "de_Q1 "
   ]
  },
  {
   "cell_type": "code",
   "execution_count": 121,
   "id": "2435bc25",
   "metadata": {},
   "outputs": [
    {
     "data": {
      "text/html": [
       "<div>\n",
       "<style scoped>\n",
       "    .dataframe tbody tr th:only-of-type {\n",
       "        vertical-align: middle;\n",
       "    }\n",
       "\n",
       "    .dataframe tbody tr th {\n",
       "        vertical-align: top;\n",
       "    }\n",
       "\n",
       "    .dataframe thead th {\n",
       "        text-align: right;\n",
       "    }\n",
       "</style>\n",
       "<table border=\"1\" class=\"dataframe\">\n",
       "  <thead>\n",
       "    <tr style=\"text-align: right;\">\n",
       "      <th></th>\n",
       "      <th>num</th>\n",
       "    </tr>\n",
       "  </thead>\n",
       "  <tbody>\n",
       "    <tr>\n",
       "      <th>0.5</th>\n",
       "      <td>50.5</td>\n",
       "    </tr>\n",
       "  </tbody>\n",
       "</table>\n",
       "</div>"
      ],
      "text/plain": [
       "      num\n",
       "0.5  50.5"
      ]
     },
     "execution_count": 121,
     "metadata": {},
     "output_type": "execute_result"
    }
   ],
   "source": [
    "Q2 = pd_vector.quantile([0.50])\n",
    "Q2.loc[ : ,['num']]"
   ]
  },
  {
   "cell_type": "code",
   "execution_count": 122,
   "id": "0c40ca28",
   "metadata": {},
   "outputs": [
    {
     "data": {
      "text/plain": [
       "num    47.916667\n",
       "dtype: float64"
      ]
     },
     "execution_count": 122,
     "metadata": {},
     "output_type": "execute_result"
    }
   ],
   "source": [
    "var_Q2 = np.var(pd_vector[26:50])\n",
    "var_Q2"
   ]
  },
  {
   "cell_type": "code",
   "execution_count": 123,
   "id": "99d22042",
   "metadata": {},
   "outputs": [
    {
     "data": {
      "text/plain": [
       "num    6.922187\n",
       "dtype: float64"
      ]
     },
     "execution_count": 123,
     "metadata": {},
     "output_type": "execute_result"
    }
   ],
   "source": [
    "de_Q2 = np.std(pd_vector[26:50])\n",
    "de_Q2 "
   ]
  },
  {
   "cell_type": "code",
   "execution_count": 124,
   "id": "a96bfa09",
   "metadata": {},
   "outputs": [
    {
     "data": {
      "text/html": [
       "<div>\n",
       "<style scoped>\n",
       "    .dataframe tbody tr th:only-of-type {\n",
       "        vertical-align: middle;\n",
       "    }\n",
       "\n",
       "    .dataframe tbody tr th {\n",
       "        vertical-align: top;\n",
       "    }\n",
       "\n",
       "    .dataframe thead th {\n",
       "        text-align: right;\n",
       "    }\n",
       "</style>\n",
       "<table border=\"1\" class=\"dataframe\">\n",
       "  <thead>\n",
       "    <tr style=\"text-align: right;\">\n",
       "      <th></th>\n",
       "      <th>num</th>\n",
       "    </tr>\n",
       "  </thead>\n",
       "  <tbody>\n",
       "    <tr>\n",
       "      <th>0.75</th>\n",
       "      <td>75.25</td>\n",
       "    </tr>\n",
       "  </tbody>\n",
       "</table>\n",
       "</div>"
      ],
      "text/plain": [
       "        num\n",
       "0.75  75.25"
      ]
     },
     "execution_count": 124,
     "metadata": {},
     "output_type": "execute_result"
    }
   ],
   "source": [
    "Q3 = pd_vector.quantile([0.75])\n",
    "Q3.loc[ : ,['num']]"
   ]
  },
  {
   "cell_type": "code",
   "execution_count": 125,
   "id": "aaecf9b5",
   "metadata": {},
   "outputs": [
    {
     "data": {
      "text/plain": [
       "num    47.916667\n",
       "dtype: float64"
      ]
     },
     "execution_count": 125,
     "metadata": {},
     "output_type": "execute_result"
    }
   ],
   "source": [
    "var_Q3 = np.var(pd_vector[51:75])\n",
    "var_Q3"
   ]
  },
  {
   "cell_type": "code",
   "execution_count": 126,
   "id": "439c23df",
   "metadata": {},
   "outputs": [
    {
     "data": {
      "text/plain": [
       "num    6.922187\n",
       "dtype: float64"
      ]
     },
     "execution_count": 126,
     "metadata": {},
     "output_type": "execute_result"
    }
   ],
   "source": [
    "de_Q3 = np.std(pd_vector[51:75])\n",
    "de_Q3 "
   ]
  },
  {
   "cell_type": "code",
   "execution_count": 127,
   "id": "18071b36",
   "metadata": {},
   "outputs": [
    {
     "data": {
      "text/html": [
       "<div>\n",
       "<style scoped>\n",
       "    .dataframe tbody tr th:only-of-type {\n",
       "        vertical-align: middle;\n",
       "    }\n",
       "\n",
       "    .dataframe tbody tr th {\n",
       "        vertical-align: top;\n",
       "    }\n",
       "\n",
       "    .dataframe thead th {\n",
       "        text-align: right;\n",
       "    }\n",
       "</style>\n",
       "<table border=\"1\" class=\"dataframe\">\n",
       "  <thead>\n",
       "    <tr style=\"text-align: right;\">\n",
       "      <th></th>\n",
       "      <th>num</th>\n",
       "    </tr>\n",
       "  </thead>\n",
       "  <tbody>\n",
       "    <tr>\n",
       "      <th>1.0</th>\n",
       "      <td>100.0</td>\n",
       "    </tr>\n",
       "  </tbody>\n",
       "</table>\n",
       "</div>"
      ],
      "text/plain": [
       "       num\n",
       "1.0  100.0"
      ]
     },
     "execution_count": 127,
     "metadata": {},
     "output_type": "execute_result"
    }
   ],
   "source": [
    "Q4 = pd_vector.quantile([1.00])\n",
    "Q4.loc[ : ,['num']]"
   ]
  },
  {
   "cell_type": "code",
   "execution_count": 128,
   "id": "4437c760",
   "metadata": {},
   "outputs": [
    {
     "data": {
      "text/plain": [
       "num    47.916667\n",
       "dtype: float64"
      ]
     },
     "execution_count": 128,
     "metadata": {},
     "output_type": "execute_result"
    }
   ],
   "source": [
    "var_Q4 = np.var(pd_vector[76:100])\n",
    "var_Q4"
   ]
  },
  {
   "cell_type": "code",
   "execution_count": 114,
   "id": "2b1b82f4",
   "metadata": {},
   "outputs": [
    {
     "data": {
      "text/plain": [
       "num    6.922187\n",
       "dtype: float64"
      ]
     },
     "execution_count": 114,
     "metadata": {},
     "output_type": "execute_result"
    }
   ],
   "source": [
    "de_Q4 = np.std(pd_vector[76:100])\n",
    "de_Q4"
   ]
  },
  {
   "cell_type": "markdown",
   "id": "b1aac673-aa4f-40c4-8ae2-364247dcaad1",
   "metadata": {},
   "source": [
    "3. Explique la respuesta que obtuvo en el ejercicio dos, recuerde que se puede apoyar del grafico del ejercicio uno para hacer referencias sobre distribucion en caso de que sea necesario."
   ]
  },
  {
   "cell_type": "code",
   "execution_count": null,
   "id": "9ff5a980",
   "metadata": {},
   "outputs": [],
   "source": [
    "La varianza y la desviación estandar es mayor en el primer cuartil, en comparación con los otros tres cuartiles.\n",
    "Entonces la desviación estandar de el primer cuartil nos indica que la libertad con la que los datos se pueden mover en\n",
    "el primer cuartil es mayor que en los otros tres cuartiles.\n",
    "También la varianza del primer cuartil es mayor que la de los otros tres cuartiles, entonces la\n",
    "dispersión de datos en el primer cuartil es mayor, con respecto a los demás cuartiles."
   ]
  }
 ],
 "metadata": {
  "kernelspec": {
   "display_name": "Python 3 (ipykernel)",
   "language": "python",
   "name": "python3"
  },
  "language_info": {
   "codemirror_mode": {
    "name": "ipython",
    "version": 3
   },
   "file_extension": ".py",
   "mimetype": "text/x-python",
   "name": "python",
   "nbconvert_exporter": "python",
   "pygments_lexer": "ipython3",
   "version": "3.9.12"
  }
 },
 "nbformat": 4,
 "nbformat_minor": 5
}
